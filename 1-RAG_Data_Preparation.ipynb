{
 "cells": [
  {
   "cell_type": "markdown",
   "id": "13a28dcd",
   "metadata": {},
   "source": [
    "# Building RAG Chatbots for Technical Documentation - Data Preparation"
   ]
  },
  {
   "cell_type": "code",
   "execution_count": 1,
   "id": "b125ba1b",
   "metadata": {},
   "outputs": [],
   "source": [
    "import warnings\n",
    "warnings.filterwarnings('ignore')"
   ]
  },
  {
   "cell_type": "markdown",
   "id": "e920fe9e",
   "metadata": {},
   "source": [
    "`(1) Requirements (Python 3.11.10)`"
   ]
  },
  {
   "cell_type": "code",
   "execution_count": null,
   "id": "3a88555a-53a5-4ab8-ba3d-e6dd3a26c71a",
   "metadata": {},
   "outputs": [],
   "source": [
    "! pip install -r requirements.txt"
   ]
  },
  {
   "cell_type": "markdown",
   "id": "1eae0ab7-d43b-43e0-8b99-6122a636fe0c",
   "metadata": {},
   "source": [
    "## Parts 1 & 2: Split the documments / generate and store embeddings"
   ]
  },
  {
   "cell_type": "code",
   "execution_count": 2,
   "id": "d5f1265a",
   "metadata": {},
   "outputs": [
    {
     "name": "stdout",
     "output_type": "stream",
     "text": [
      "Removed existing directory: ../embeddings_db\n",
      "Created directory: ../embeddings_db\n",
      "Created and persisted new database.\n"
     ]
    }
   ],
   "source": [
    "import Constants\n",
    "from langchain.text_splitter import RecursiveCharacterTextSplitter\n",
    "from langchain_community.document_loaders import DirectoryLoader, PyPDFLoader\n",
    "from langchain_community.vectorstores import Chroma\n",
    "from langchain_huggingface import HuggingFaceEmbeddings\n",
    "import shutil\n",
    "import os\n",
    "\n",
    "persist_directory = Constants.PERSIST_DIRECTORY\n",
    "\n",
    "# If the directory exists, ask the user before removing\n",
    "if os.path.exists(persist_directory):\n",
    "    user_input = input(f\"The directory '{persist_directory}' already exists. Do you want to overwrite it? (y/n): \").lower()\n",
    "    if user_input == 'y':\n",
    "        shutil.rmtree(persist_directory)\n",
    "        print(f\"Removed existing directory: {persist_directory}\")\n",
    "    else:\n",
    "        print(\"Operation cancelled. Exiting.\")\n",
    "        exit()\n",
    "\n",
    "# Create the directory if it doesn't exist\n",
    "os.makedirs(persist_directory, exist_ok=True)\n",
    "print(f\"Created directory: {persist_directory}\")\n",
    "\n",
    "\n",
    "# Load Documents\n",
    "loader = DirectoryLoader(\"../Data\", glob=\"*.pdf\", loader_cls=PyPDFLoader)\n",
    "docs = loader.load()\n",
    "\n",
    "\n",
    "# Split\n",
    "text_splitter = RecursiveCharacterTextSplitter(chunk_size=1000, chunk_overlap=200)\n",
    "splits = text_splitter.split_documents(docs)\n",
    "\n",
    "# Embed\n",
    "embeddings = HuggingFaceEmbeddings(\n",
    "    model_name=\"sentence-transformers/all-MiniLM-L6-v2\",\n",
    "    model_kwargs={'tokenizer_kwargs': {'clean_up_tokenization_spaces': True}}\n",
    ")\n",
    "\n",
    "# Create and persist the vector store\n",
    "vectorstore = Chroma.from_documents(\n",
    "    documents=splits, \n",
    "    embedding=embeddings, \n",
    "    persist_directory=persist_directory\n",
    ")\n",
    "\n",
    "\n",
    "print(\"Created and persisted new database.\")"
   ]
  },
  {
   "cell_type": "markdown",
   "id": "7d7e0f83",
   "metadata": {},
   "source": [
    "Now that the embeddings are generated and stored, this process is only done again if the user wants to extract information from a different database.\n",
    "\n",
    "*If you'd like to re-run the notebook, it's recommended to restart the kernel to avoid potential errors.*"
   ]
  },
  {
   "cell_type": "markdown",
   "id": "5f1c938f",
   "metadata": {},
   "source": [
    "#### Next Notebook: [RAG-Fusion](2-RAG-Fusion.ipynb)"
   ]
  }
 ],
 "metadata": {
  "kernelspec": {
   "display_name": "taac_req",
   "language": "python",
   "name": "python3"
  },
  "language_info": {
   "codemirror_mode": {
    "name": "ipython",
    "version": 3
   },
   "file_extension": ".py",
   "mimetype": "text/x-python",
   "name": "python",
   "nbconvert_exporter": "python",
   "pygments_lexer": "ipython3",
   "version": "3.11.10"
  }
 },
 "nbformat": 4,
 "nbformat_minor": 5
}
